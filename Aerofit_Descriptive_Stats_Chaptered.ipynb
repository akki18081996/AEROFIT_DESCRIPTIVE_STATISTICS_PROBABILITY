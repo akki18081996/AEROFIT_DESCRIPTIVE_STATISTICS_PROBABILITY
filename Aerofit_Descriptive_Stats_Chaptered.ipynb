{
 "cells": [
  {
   "cell_type": "markdown",
   "id": "6cc028e8",
   "metadata": {},
   "source": [
    "# 1. Introduction"
   ]
  },
  {
   "cell_type": "markdown",
   "id": "a20ecce1",
   "metadata": {},
   "source": [
    "# Aerofit: Descriptive Statistics & Probability"
   ]
  },
  {
   "cell_type": "markdown",
   "id": "f9db3e02",
   "metadata": {},
   "source": [
    "**By Akanksha Trivedi - Scaler Academy**"
   ]
  },
  {
   "cell_type": "markdown",
   "id": "c489d54a",
   "metadata": {},
   "source": [
    "# 2. Project Purpose"
   ]
  },
  {
   "cell_type": "markdown",
   "id": "fdef5fa5",
   "metadata": {},
   "source": [
    "## Introduction"
   ]
  },
  {
   "cell_type": "markdown",
   "id": "82332287",
   "metadata": {},
   "source": [
    "Aerofit is a leading brand in fitness equipment. This analysis aims to identify the characteristics of the target audience for each treadmill product offered by the company."
   ]
  },
  {
   "cell_type": "markdown",
   "id": "b64a8cf4",
   "metadata": {},
   "source": [
    "# 3. Dataset Overview"
   ]
  },
  {
   "cell_type": "markdown",
   "id": "fb256238",
   "metadata": {},
   "source": [
    "## Purpose"
   ]
  },
  {
   "cell_type": "markdown",
   "id": "fc8bdf40",
   "metadata": {},
   "source": [
    "- Perform descriptive analytics to create customer profiles\n",
    "- Construct contingency tables for conditional/marginal probabilities\n",
    "- Recommend treadmills based on customer profiles"
   ]
  },
  {
   "cell_type": "markdown",
   "id": "b9c18509",
   "metadata": {},
   "source": [
    "# 4. Univariate Analysis & Outliers"
   ]
  },
  {
   "cell_type": "markdown",
   "id": "178545ba",
   "metadata": {},
   "source": [
    "## Dataset Characteristics"
   ]
  },
  {
   "cell_type": "code",
   "execution_count": null,
   "id": "3a567df9",
   "metadata": {},
   "outputs": [],
   "source": [
    "```python\n",
    "import pandas as pd\n",
    "import numpy as np\n",
    "import matplotlib.pyplot as plt\n",
    "import seaborn as sns\n",
    "\n",
    "# Load dataset\n",
    "df = pd.read_csv('aerofit_data.csv')\n",
    "df.head()\n",
    "df.info()\n",
    "df.describe()\n",
    "```"
   ]
  },
  {
   "cell_type": "markdown",
   "id": "8fc341b1",
   "metadata": {},
   "source": [
    "# 5. Bivariate Analysis"
   ]
  },
  {
   "cell_type": "markdown",
   "id": "9d77b661",
   "metadata": {},
   "source": [
    "### 🔍 Observations"
   ]
  },
  {
   "cell_type": "markdown",
   "id": "60596044",
   "metadata": {},
   "source": [
    "- 180 samples with 9 variables\n",
    "- KP281 is top selling product\n",
    "- Age group 24-33 is the largest segment\n",
    "- Male and partnered users dominate"
   ]
  },
  {
   "cell_type": "markdown",
   "id": "9ba0d522",
   "metadata": {},
   "source": [
    "# 6. Probability Analysis"
   ]
  },
  {
   "cell_type": "markdown",
   "id": "bab7a8cd",
   "metadata": {},
   "source": [
    "## Univariate Analysis & Outliers"
   ]
  },
  {
   "cell_type": "code",
   "execution_count": null,
   "id": "6f8a13d9",
   "metadata": {},
   "outputs": [],
   "source": [
    "```python\n",
    "# Distribution plots\n",
    "numeric_cols = ['Age', 'Education', 'Usage', 'Fitness', 'Income', 'Miles']\n",
    "df[numeric_cols].hist(bins=20, figsize=(12, 10))\n",
    "plt.tight_layout()\n",
    "plt.show()\n",
    "\n",
    "# Boxplots for outliers\n",
    "for col in numeric_cols:\n",
    "    sns.boxplot(x=df[col])\n",
    "    plt.title(f'Boxplot for {col}')\n",
    "    plt.show()\n",
    "```"
   ]
  },
  {
   "cell_type": "markdown",
   "id": "10851f04",
   "metadata": {},
   "source": [
    "# 7. Customer Profiling & Strategy"
   ]
  },
  {
   "cell_type": "markdown",
   "id": "a5b1aad6",
   "metadata": {},
   "source": [
    "### 🔍 Observations"
   ]
  },
  {
   "cell_type": "markdown",
   "id": "321bb00c",
   "metadata": {},
   "source": [
    "- Common age group: ~25\n",
    "- Usage: 3-4 times/week\n",
    "- Fitness self-rating: 3\n",
    "- KP281 is most sold (44.44%), followed by KP481 (33.33%), KP781 (22.22%)\n",
    "- Income and miles have high outliers"
   ]
  },
  {
   "cell_type": "markdown",
   "id": "75c802b9",
   "metadata": {},
   "source": [
    "## Bivariate Analysis"
   ]
  },
  {
   "cell_type": "code",
   "execution_count": null,
   "id": "1c4f1a3a",
   "metadata": {},
   "outputs": [],
   "source": [
    "```python\n",
    "# Example: Age vs Product\n",
    "sns.boxplot(x='Product', y='Age', data=df)\n",
    "plt.title('Age Distribution by Product')\n",
    "plt.show()\n",
    "```"
   ]
  },
  {
   "cell_type": "markdown",
   "id": "01184145",
   "metadata": {},
   "source": [
    "### 🔍 Observations"
   ]
  },
  {
   "cell_type": "markdown",
   "id": "d07c6875",
   "metadata": {},
   "source": [
    "- KP781 attracts older, more fit users\n",
    "- KP281 used by consistent users with mid-range income\n",
    "- KP781 has higher education and fitness levels\n",
    "- KP481 overlaps KP281 with higher income"
   ]
  },
  {
   "cell_type": "markdown",
   "id": "715a3525",
   "metadata": {},
   "source": [
    "## Marginal & Conditional Probability"
   ]
  },
  {
   "cell_type": "code",
   "execution_count": null,
   "id": "64ef9169",
   "metadata": {},
   "outputs": [],
   "source": [
    "```python\n",
    "# Example contingency table\n",
    "pd.crosstab(df['Product'], df['Gender'], normalize='index')\n",
    "```"
   ]
  },
  {
   "cell_type": "markdown",
   "id": "8d6b5c77",
   "metadata": {},
   "source": [
    "## Customer Profiling & Recommendations"
   ]
  },
  {
   "cell_type": "markdown",
   "id": "538e02be",
   "metadata": {},
   "source": [
    "### KP281\n",
    "- Age: 25–35\n",
    "- Gender & Marital Status: No strong influence\n",
    "- Income: 40k–50k\n",
    "**Recommendations:** Keep price competitive due to cost sensitivity.\n",
    "\n",
    "### KP481\n",
    "- Similar to KP281 but higher income\n",
    "**Recommendations:** Add more features to differentiate, push through marketing.\n",
    "\n",
    "### KP781\n",
    "- Older, fit, and higher income customers\n",
    "**Recommendations:** Appeal to high-end market; target less-fit wealthy group too."
   ]
  }
 ],
 "metadata": {},
 "nbformat": 4,
 "nbformat_minor": 5
}
